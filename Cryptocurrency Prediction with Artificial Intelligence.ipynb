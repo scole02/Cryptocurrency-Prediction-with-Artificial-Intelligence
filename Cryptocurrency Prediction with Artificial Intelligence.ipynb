{
 "cells": [
  {
   "cell_type": "code",
   "execution_count": 20,
   "metadata": {
    "id": "Bk2m_4TChMIS"
   },
   "outputs": [],
   "source": [
    "\n",
    "from tensorflow.keras.models import Sequential\n",
    "from tensorflow.keras.layers import Activation, Dense, Dropout, LSTM\n",
    "import matplotlib.pyplot as plt\n",
    "import numpy as np\n",
    "import pandas as pd\n",
    "from sklearn.metrics import mean_absolute_error"
   ]
  },
  {
   "cell_type": "code",
   "execution_count": 21,
   "metadata": {
    "colab": {
     "base_uri": "https://localhost:8080/"
    },
    "id": "rqsutzJBwjS_",
    "outputId": "e7c3f28d-b281-4e29-da14-493ed67e5da3"
   },
   "outputs": [
    {
     "name": "stdout",
     "output_type": "stream",
     "text": [
      "Empty DataFrame\n",
      "Columns: [unix, date, symbol, open, high, low, close, Volume XRP, Volume USDT]\n",
      "Index: []\n",
      "         date    high     low    open   Volume XRP   Volume USDT   close\n",
      "0  12-27-2021  0.9237  0.9200  0.9200    2384512.0  2.198450e+06  0.9226\n",
      "1  12-26-2021  0.9334  0.9052  0.9252  163438501.0  1.499400e+08  0.9200\n",
      "2  12-25-2021  0.9350  0.8981  0.9114  250074945.0  2.302303e+08  0.9252\n",
      "3  12-24-2021  0.9966  0.8964  0.9941  567234092.0  5.377035e+08  0.9115\n",
      "4  12-23-2021  1.0167  0.9372  0.9538  479436230.0  4.729372e+08  0.9941\n"
     ]
    },
    {
     "data": {
      "text/html": [
       "<div>\n",
       "<style scoped>\n",
       "    .dataframe tbody tr th:only-of-type {\n",
       "        vertical-align: middle;\n",
       "    }\n",
       "\n",
       "    .dataframe tbody tr th {\n",
       "        vertical-align: top;\n",
       "    }\n",
       "\n",
       "    .dataframe thead th {\n",
       "        text-align: right;\n",
       "    }\n",
       "</style>\n",
       "<table border=\"1\" class=\"dataframe\">\n",
       "  <thead>\n",
       "    <tr style=\"text-align: right;\">\n",
       "      <th></th>\n",
       "      <th>date</th>\n",
       "      <th>high</th>\n",
       "      <th>low</th>\n",
       "      <th>open</th>\n",
       "      <th>Volume XRP</th>\n",
       "      <th>Volume USDT</th>\n",
       "      <th>close</th>\n",
       "    </tr>\n",
       "  </thead>\n",
       "  <tbody>\n",
       "    <tr>\n",
       "      <th>0</th>\n",
       "      <td>12-27-2021</td>\n",
       "      <td>0.92370</td>\n",
       "      <td>0.92000</td>\n",
       "      <td>0.92000</td>\n",
       "      <td>2.384512e+06</td>\n",
       "      <td>2.198450e+06</td>\n",
       "      <td>0.92260</td>\n",
       "    </tr>\n",
       "    <tr>\n",
       "      <th>1</th>\n",
       "      <td>12-26-2021</td>\n",
       "      <td>0.93340</td>\n",
       "      <td>0.90520</td>\n",
       "      <td>0.92520</td>\n",
       "      <td>1.634385e+08</td>\n",
       "      <td>1.499400e+08</td>\n",
       "      <td>0.92000</td>\n",
       "    </tr>\n",
       "    <tr>\n",
       "      <th>2</th>\n",
       "      <td>12-25-2021</td>\n",
       "      <td>0.93500</td>\n",
       "      <td>0.89810</td>\n",
       "      <td>0.91140</td>\n",
       "      <td>2.500749e+08</td>\n",
       "      <td>2.302303e+08</td>\n",
       "      <td>0.92520</td>\n",
       "    </tr>\n",
       "    <tr>\n",
       "      <th>3</th>\n",
       "      <td>12-24-2021</td>\n",
       "      <td>0.99660</td>\n",
       "      <td>0.89640</td>\n",
       "      <td>0.99410</td>\n",
       "      <td>5.672341e+08</td>\n",
       "      <td>5.377035e+08</td>\n",
       "      <td>0.91150</td>\n",
       "    </tr>\n",
       "    <tr>\n",
       "      <th>4</th>\n",
       "      <td>12-23-2021</td>\n",
       "      <td>1.01670</td>\n",
       "      <td>0.93720</td>\n",
       "      <td>0.95380</td>\n",
       "      <td>4.794362e+08</td>\n",
       "      <td>4.729372e+08</td>\n",
       "      <td>0.99410</td>\n",
       "    </tr>\n",
       "    <tr>\n",
       "      <th>...</th>\n",
       "      <td>...</td>\n",
       "      <td>...</td>\n",
       "      <td>...</td>\n",
       "      <td>...</td>\n",
       "      <td>...</td>\n",
       "      <td>...</td>\n",
       "      <td>...</td>\n",
       "    </tr>\n",
       "    <tr>\n",
       "      <th>1329</th>\n",
       "      <td>5-8-2018</td>\n",
       "      <td>0.84802</td>\n",
       "      <td>0.79200</td>\n",
       "      <td>0.82490</td>\n",
       "      <td>1.297130e+07</td>\n",
       "      <td>1.057184e+07</td>\n",
       "      <td>0.80667</td>\n",
       "    </tr>\n",
       "    <tr>\n",
       "      <th>1330</th>\n",
       "      <td>5-7-2018</td>\n",
       "      <td>0.86886</td>\n",
       "      <td>0.80000</td>\n",
       "      <td>0.86482</td>\n",
       "      <td>1.730349e+07</td>\n",
       "      <td>1.419228e+07</td>\n",
       "      <td>0.82490</td>\n",
       "    </tr>\n",
       "    <tr>\n",
       "      <th>1331</th>\n",
       "      <td>5-6-2018</td>\n",
       "      <td>0.91800</td>\n",
       "      <td>0.83774</td>\n",
       "      <td>0.90280</td>\n",
       "      <td>1.600204e+07</td>\n",
       "      <td>1.399714e+07</td>\n",
       "      <td>0.86483</td>\n",
       "    </tr>\n",
       "    <tr>\n",
       "      <th>1332</th>\n",
       "      <td>5-5-2018</td>\n",
       "      <td>0.93500</td>\n",
       "      <td>0.88800</td>\n",
       "      <td>0.88980</td>\n",
       "      <td>1.681617e+07</td>\n",
       "      <td>1.528200e+07</td>\n",
       "      <td>0.90280</td>\n",
       "    </tr>\n",
       "    <tr>\n",
       "      <th>1333</th>\n",
       "      <td>5-4-2018</td>\n",
       "      <td>1.50000</td>\n",
       "      <td>0.50000</td>\n",
       "      <td>0.50000</td>\n",
       "      <td>2.089021e+07</td>\n",
       "      <td>1.894672e+07</td>\n",
       "      <td>0.88990</td>\n",
       "    </tr>\n",
       "  </tbody>\n",
       "</table>\n",
       "<p>1334 rows × 7 columns</p>\n",
       "</div>"
      ],
      "text/plain": [
       "            date     high      low     open    Volume XRP   Volume USDT  \\\n",
       "0     12-27-2021  0.92370  0.92000  0.92000  2.384512e+06  2.198450e+06   \n",
       "1     12-26-2021  0.93340  0.90520  0.92520  1.634385e+08  1.499400e+08   \n",
       "2     12-25-2021  0.93500  0.89810  0.91140  2.500749e+08  2.302303e+08   \n",
       "3     12-24-2021  0.99660  0.89640  0.99410  5.672341e+08  5.377035e+08   \n",
       "4     12-23-2021  1.01670  0.93720  0.95380  4.794362e+08  4.729372e+08   \n",
       "...          ...      ...      ...      ...           ...           ...   \n",
       "1329    5-8-2018  0.84802  0.79200  0.82490  1.297130e+07  1.057184e+07   \n",
       "1330    5-7-2018  0.86886  0.80000  0.86482  1.730349e+07  1.419228e+07   \n",
       "1331    5-6-2018  0.91800  0.83774  0.90280  1.600204e+07  1.399714e+07   \n",
       "1332    5-5-2018  0.93500  0.88800  0.88980  1.681617e+07  1.528200e+07   \n",
       "1333    5-4-2018  1.50000  0.50000  0.50000  2.089021e+07  1.894672e+07   \n",
       "\n",
       "        close  \n",
       "0     0.92260  \n",
       "1     0.92000  \n",
       "2     0.92520  \n",
       "3     0.91150  \n",
       "4     0.99410  \n",
       "...       ...  \n",
       "1329  0.80667  \n",
       "1330  0.82490  \n",
       "1331  0.86483  \n",
       "1332  0.90280  \n",
       "1333  0.88990  \n",
       "\n",
       "[1334 rows x 7 columns]"
      ]
     },
     "execution_count": 21,
     "metadata": {},
     "output_type": "execute_result"
    }
   ],
   "source": [
    "data = pd.read_csv(\"data.csv\")\n",
    "print(data.head(0))\n",
    "data = data.loc[:,['date','high','low','open','Volume XRP','Volume USDT','close']]\n",
    "print(data.head(5))\n",
    "data\n",
    "#print(data.date)"
   ]
  },
  {
   "cell_type": "code",
   "execution_count": 22,
   "metadata": {
    "colab": {
     "base_uri": "https://localhost:8080/"
    },
    "id": "HCWV-p6b-xmS",
    "outputId": "47fbcadf-5964-47cc-f26d-a9fb5ccd140f"
   },
   "outputs": [
    {
     "name": "stdout",
     "output_type": "stream",
     "text": [
      "DatetimeIndex(['2021-12-27', '2021-12-26', '2021-12-25', '2021-12-24',\n",
      "               '2021-12-23', '2021-12-22', '2021-12-21', '2021-12-20',\n",
      "               '2021-12-19', '2021-12-18',\n",
      "               ...\n",
      "               '2018-05-13', '2018-05-12', '2018-05-11', '2018-05-10',\n",
      "               '2018-05-09', '2018-05-08', '2018-05-07', '2018-05-06',\n",
      "               '2018-05-05', '2018-05-04'],\n",
      "              dtype='datetime64[ns]', name='date', length=1334, freq=None)\n"
     ]
    }
   ],
   "source": [
    "data = data.set_index('date')\n",
    "data.index = pd.to_datetime(data.index,unit='ns')\n",
    "print(data.index)"
   ]
  },
  {
   "cell_type": "code",
   "execution_count": 33,
   "metadata": {},
   "outputs": [
    {
     "data": {
      "text/html": [
       "<div>\n",
       "<style scoped>\n",
       "    .dataframe tbody tr th:only-of-type {\n",
       "        vertical-align: middle;\n",
       "    }\n",
       "\n",
       "    .dataframe tbody tr th {\n",
       "        vertical-align: top;\n",
       "    }\n",
       "\n",
       "    .dataframe thead th {\n",
       "        text-align: right;\n",
       "    }\n",
       "</style>\n",
       "<table border=\"1\" class=\"dataframe\">\n",
       "  <thead>\n",
       "    <tr style=\"text-align: right;\">\n",
       "      <th></th>\n",
       "      <th>high</th>\n",
       "      <th>low</th>\n",
       "      <th>open</th>\n",
       "      <th>Volume XRP</th>\n",
       "      <th>Volume USDT</th>\n",
       "      <th>close</th>\n",
       "    </tr>\n",
       "    <tr>\n",
       "      <th>date</th>\n",
       "      <th></th>\n",
       "      <th></th>\n",
       "      <th></th>\n",
       "      <th></th>\n",
       "      <th></th>\n",
       "      <th></th>\n",
       "    </tr>\n",
       "  </thead>\n",
       "  <tbody>\n",
       "    <tr>\n",
       "      <th>2021-12-27</th>\n",
       "      <td>0.9237</td>\n",
       "      <td>0.9200</td>\n",
       "      <td>0.9200</td>\n",
       "      <td>2384512.0</td>\n",
       "      <td>2.198450e+06</td>\n",
       "      <td>0.9226</td>\n",
       "    </tr>\n",
       "    <tr>\n",
       "      <th>2021-12-26</th>\n",
       "      <td>0.9334</td>\n",
       "      <td>0.9052</td>\n",
       "      <td>0.9252</td>\n",
       "      <td>163438501.0</td>\n",
       "      <td>1.499400e+08</td>\n",
       "      <td>0.9200</td>\n",
       "    </tr>\n",
       "    <tr>\n",
       "      <th>2021-12-25</th>\n",
       "      <td>0.9350</td>\n",
       "      <td>0.8981</td>\n",
       "      <td>0.9114</td>\n",
       "      <td>250074945.0</td>\n",
       "      <td>2.302303e+08</td>\n",
       "      <td>0.9252</td>\n",
       "    </tr>\n",
       "    <tr>\n",
       "      <th>2021-12-24</th>\n",
       "      <td>0.9966</td>\n",
       "      <td>0.8964</td>\n",
       "      <td>0.9941</td>\n",
       "      <td>567234092.0</td>\n",
       "      <td>5.377035e+08</td>\n",
       "      <td>0.9115</td>\n",
       "    </tr>\n",
       "    <tr>\n",
       "      <th>2021-12-23</th>\n",
       "      <td>1.0167</td>\n",
       "      <td>0.9372</td>\n",
       "      <td>0.9538</td>\n",
       "      <td>479436230.0</td>\n",
       "      <td>4.729372e+08</td>\n",
       "      <td>0.9941</td>\n",
       "    </tr>\n",
       "    <tr>\n",
       "      <th>...</th>\n",
       "      <td>...</td>\n",
       "      <td>...</td>\n",
       "      <td>...</td>\n",
       "      <td>...</td>\n",
       "      <td>...</td>\n",
       "      <td>...</td>\n",
       "    </tr>\n",
       "    <tr>\n",
       "      <th>2021-06-15</th>\n",
       "      <td>0.9017</td>\n",
       "      <td>0.8551</td>\n",
       "      <td>0.8905</td>\n",
       "      <td>367733720.0</td>\n",
       "      <td>3.234482e+08</td>\n",
       "      <td>0.8663</td>\n",
       "    </tr>\n",
       "    <tr>\n",
       "      <th>2021-06-14</th>\n",
       "      <td>0.9300</td>\n",
       "      <td>0.8628</td>\n",
       "      <td>0.8833</td>\n",
       "      <td>441724628.6</td>\n",
       "      <td>3.916475e+08</td>\n",
       "      <td>0.8906</td>\n",
       "    </tr>\n",
       "    <tr>\n",
       "      <th>2021-06-13</th>\n",
       "      <td>0.8883</td>\n",
       "      <td>0.8170</td>\n",
       "      <td>0.8325</td>\n",
       "      <td>344882480.1</td>\n",
       "      <td>2.929336e+08</td>\n",
       "      <td>0.8832</td>\n",
       "    </tr>\n",
       "    <tr>\n",
       "      <th>2021-06-12</th>\n",
       "      <td>0.8479</td>\n",
       "      <td>0.8054</td>\n",
       "      <td>0.8469</td>\n",
       "      <td>375425465.1</td>\n",
       "      <td>3.099406e+08</td>\n",
       "      <td>0.8326</td>\n",
       "    </tr>\n",
       "    <tr>\n",
       "      <th>2021-06-11</th>\n",
       "      <td>0.8800</td>\n",
       "      <td>0.8335</td>\n",
       "      <td>0.8686</td>\n",
       "      <td>384826199.1</td>\n",
       "      <td>3.306105e+08</td>\n",
       "      <td>0.8471</td>\n",
       "    </tr>\n",
       "  </tbody>\n",
       "</table>\n",
       "<p>200 rows × 6 columns</p>\n",
       "</div>"
      ],
      "text/plain": [
       "              high     low    open   Volume XRP   Volume USDT   close\n",
       "date                                                                 \n",
       "2021-12-27  0.9237  0.9200  0.9200    2384512.0  2.198450e+06  0.9226\n",
       "2021-12-26  0.9334  0.9052  0.9252  163438501.0  1.499400e+08  0.9200\n",
       "2021-12-25  0.9350  0.8981  0.9114  250074945.0  2.302303e+08  0.9252\n",
       "2021-12-24  0.9966  0.8964  0.9941  567234092.0  5.377035e+08  0.9115\n",
       "2021-12-23  1.0167  0.9372  0.9538  479436230.0  4.729372e+08  0.9941\n",
       "...            ...     ...     ...          ...           ...     ...\n",
       "2021-06-15  0.9017  0.8551  0.8905  367733720.0  3.234482e+08  0.8663\n",
       "2021-06-14  0.9300  0.8628  0.8833  441724628.6  3.916475e+08  0.8906\n",
       "2021-06-13  0.8883  0.8170  0.8325  344882480.1  2.929336e+08  0.8832\n",
       "2021-06-12  0.8479  0.8054  0.8469  375425465.1  3.099406e+08  0.8326\n",
       "2021-06-11  0.8800  0.8335  0.8686  384826199.1  3.306105e+08  0.8471\n",
       "\n",
       "[200 rows x 6 columns]"
      ]
     },
     "execution_count": 33,
     "metadata": {},
     "output_type": "execute_result"
    }
   ],
   "source": [
    "data.iloc[:200]"
   ]
  },
  {
   "cell_type": "code",
   "execution_count": 24,
   "metadata": {
    "id": "fExReGBJz_qo"
   },
   "outputs": [],
   "source": [
    "aim = 'close'"
   ]
  },
  {
   "cell_type": "code",
   "execution_count": 25,
   "metadata": {
    "id": "TBA-1zdMztBG"
   },
   "outputs": [],
   "source": [
    "train_data = data.iloc[200:]\n",
    "test_data = data.iloc[:200]\n",
    "\n",
    "def line_plot(line1, line2, label1=None, label2=None, title='', lw=2):\n",
    "    fig, ax = plt.subplots(1, figsize=(13, 7))\n",
    "    ax.plot(line1, label=label1, linewidth=lw)\n",
    "    ax.plot(line2, label=label2, linewidth=lw)\n",
    "    ax.set_ylabel('XRP/USDT', fontsize=14)\n",
    "    ax.set_title(title, fontsize=16)\n",
    "    ax.legend(loc='best', fontsize=16);"
   ]
  },
  {
   "cell_type": "code",
   "execution_count": 26,
   "metadata": {
    "colab": {
     "base_uri": "https://localhost:8080/",
     "height": 428
    },
    "id": "av-o9MvNzzU1",
    "outputId": "9ae2b809-acdb-4cfe-f0f3-10c842683af8"
   },
   "outputs": [
    {
     "data": {
      "image/png": "[encoded data removed]",
      "text/plain": [
       "<Figure size 936x504 with 1 Axes>"
      ]
     },
     "metadata": {
      "needs_background": "light"
     },
     "output_type": "display_data"
    }
   ],
   "source": [
    "line_plot(train_data[aim], test_data[aim], 'training', 'test', title='')"
   ]
  },
  {
   "cell_type": "code",
   "execution_count": 27,
   "metadata": {
    "id": "lQi8Ho8g0V7E"
   },
   "outputs": [],
   "source": [
    "def normalise_zero_base(continuous):\n",
    "    return continuous / continuous.iloc[0] - 1\n",
    "\n",
    "def normalise_min_max(continuous):\n",
    "    return (continuous - continuous.min()) / (data.max() - continuous.min())"
   ]
  },
  {
   "cell_type": "code",
   "execution_count": 30,
   "metadata": {
    "id": "4knpG9Nn0vV1"
   },
   "outputs": [],
   "source": [
    "def extract_window_data(continuous, window_len=5, zero_base=True):\n",
    "    # copies data from continuous(dict) to window_data(nparray)\n",
    "    \n",
    "    window_data = []\n",
    "    for idx in range(len(continuous) - window_len):\n",
    "        tmp = continuous[idx: (idx + window_len)].copy()\n",
    "        if zero_base:\n",
    "            tmp = normalise_zero_base(tmp)\n",
    "        else:\n",
    "            tmp = normalise_min_max(tmp)\n",
    "        window_data.append(tmp.values)\n",
    "    return np.array(window_data)\n",
    "\n",
    "def prepare_data(continuous, aim, window_len=10, zero_base=True, test_size=0.2):\n",
    "    X_train = extract_window_data(train_data, window_len, zero_base)\n",
    "    X_test = extract_window_data(test_data, window_len, zero_base)\n",
    "    y_train = train_data[aim][window_len:].values\n",
    "    y_test = test_data[aim][window_len:].values\n",
    "    if zero_base:\n",
    "        y_train = y_train / train_data[aim][:-window_len].values - 1\n",
    "        y_test = y_test / test_data[aim][:-window_len].values - 1\n",
    "\n",
    "    return train_data, test_data, X_train, X_test, y_train, y_test\n",
    "import numpy as np"
   ]
  },
  {
   "cell_type": "code",
   "execution_count": 29,
   "metadata": {
    "id": "6HA0se_Ve0Pq"
   },
   "outputs": [],
   "source": [
    "from tensorflow.keras import layers"
   ]
  },
  {
   "cell_type": "code",
   "execution_count": 31,
   "metadata": {
    "id": "wdEmnpEz01dg"
   },
   "outputs": [],
   "source": [
    "def build_lstm_model(input_data, output_size, neurons, activ_func='tanh',\n",
    "                     dropout=0.2, loss='mse', optimizer='adam'):\n",
    "    model = Sequential()\n",
    "    model.add(LSTM(neurons, \n",
    "                   input_shape=(input_data.shape[1], input_data.shape[2]) ,\n",
    "                   recurrent_activation=\"sigmoid\",))\n",
    "    model.add(Dropout(dropout))\n",
    "    model.add(Dense(units=output_size))\n",
    "    model.add(Activation(activ_func))\n",
    "\n",
    "    model.compile(loss=loss, optimizer=optimizer)\n",
    "    return model\n",
    "np.random.seed(245)\n",
    "window_len = 5\n",
    "test_size = 0.2\n",
    "zero_base = True\n",
    "lstm_neurons = 50\n",
    "epochs = 20\n",
    "batch_size = 32\n",
    "loss = 'mse'\n",
    "dropout = 0.4\n",
    "optimizer = 'adam'\n",
    "train_data, test_data, X_train, X_test, y_train, y_test = prepare_data(\n",
    "    data, aim, window_len=window_len, zero_base=zero_base, test_size=test_size)"
   ]
  },
  {
   "cell_type": "code",
   "execution_count": 11,
   "metadata": {
    "colab": {
     "base_uri": "https://localhost:8080/"
    },
    "id": "JKgo07hGJy4S",
    "outputId": "38d99f7b-037c-4a80-f458-45dbe3170cfc"
   },
   "outputs": [
    {
     "name": "stdout",
     "output_type": "stream",
     "text": [
      "(1129, 5, 6)\n"
     ]
    }
   ],
   "source": [
    "print(X_train.shape)"
   ]
  },
  {
   "cell_type": "code",
   "execution_count": 32,
   "metadata": {
    "colab": {
     "base_uri": "https://localhost:8080/"
    },
    "collapsed": true,
    "id": "d1TEOxBr1ALy",
    "jupyter": {
     "outputs_hidden": true
    },
    "outputId": "51104b89-80ab-47aa-9031-9cc12a5cd0a8",
    "tags": []
   },
   "outputs": [
    {
     "name": "stderr",
     "output_type": "stream",
     "text": [
      "2022-03-04 18:53:11.654481: I tensorflow/stream_executor/cuda/cuda_gpu_executor.cc:936] successful NUMA node read from SysFS had negative value (-1), but there must be at least one NUMA node, so returning NUMA node zero\n",
      "2022-03-04 18:53:11.655016: W tensorflow/stream_executor/platform/default/dso_loader.cc:64] Could not load dynamic library 'libcudart.so.11.0'; dlerror: libcudart.so.11.0: cannot open shared object file: No such file or directory\n",
      "2022-03-04 18:53:11.655080: W tensorflow/stream_executor/platform/default/dso_loader.cc:64] Could not load dynamic library 'libcublas.so.11'; dlerror: libcublas.so.11: cannot open shared object file: No such file or directory\n",
      "2022-03-04 18:53:11.655125: W tensorflow/stream_executor/platform/default/dso_loader.cc:64] Could not load dynamic library 'libcublasLt.so.11'; dlerror: libcublasLt.so.11: cannot open shared object file: No such file or directory\n",
      "2022-03-04 18:53:11.655169: W tensorflow/stream_executor/platform/default/dso_loader.cc:64] Could not load dynamic library 'libcufft.so.10'; dlerror: libcufft.so.10: cannot open shared object file: No such file or directory\n",
      "2022-03-04 18:53:11.655213: W tensorflow/stream_executor/platform/default/dso_loader.cc:64] Could not load dynamic library 'libcurand.so.10'; dlerror: libcurand.so.10: cannot open shared object file: No such file or directory\n",
      "2022-03-04 18:53:11.655254: W tensorflow/stream_executor/platform/default/dso_loader.cc:64] Could not load dynamic library 'libcusolver.so.11'; dlerror: libcusolver.so.11: cannot open shared object file: No such file or directory\n",
      "2022-03-04 18:53:11.655296: W tensorflow/stream_executor/platform/default/dso_loader.cc:64] Could not load dynamic library 'libcusparse.so.11'; dlerror: libcusparse.so.11: cannot open shared object file: No such file or directory\n",
      "2022-03-04 18:53:11.655339: W tensorflow/stream_executor/platform/default/dso_loader.cc:64] Could not load dynamic library 'libcudnn.so.8'; dlerror: libcudnn.so.8: cannot open shared object file: No such file or directory\n",
      "2022-03-04 18:53:11.655346: W tensorflow/core/common_runtime/gpu/gpu_device.cc:1850] Cannot dlopen some GPU libraries. Please make sure the missing libraries mentioned above are installed properly if you would like to use GPU. Follow the guide at https://www.tensorflow.org/install/gpu for how to download and setup the required libraries for your platform.\n",
      "Skipping registering GPU devices...\n",
      "2022-03-04 18:53:11.655766: I tensorflow/core/platform/cpu_feature_guard.cc:151] This TensorFlow binary is optimized with oneAPI Deep Neural Network Library (oneDNN) to use the following CPU instructions in performance-critical operations:  AVX2 AVX512F FMA\n",
      "To enable them in other operations, rebuild TensorFlow with the appropriate compiler flags.\n"
     ]
    },
    {
     "name": "stdout",
     "output_type": "stream",
     "text": [
      "Epoch 1/20\n",
      "36/36 [==============================] - 2s 13ms/step - loss: 0.0177 - val_loss: 0.0062\n",
      "Epoch 2/20\n",
      "36/36 [==============================] - 0s 4ms/step - loss: 0.0091 - val_loss: 0.0037\n",
      "Epoch 3/20\n",
      "36/36 [==============================] - 0s 4ms/step - loss: 0.0069 - val_loss: 0.0036\n",
      "Epoch 4/20\n",
      "36/36 [==============================] - 0s 4ms/step - loss: 0.0056 - val_loss: 0.0032\n",
      "Epoch 5/20\n",
      "36/36 [==============================] - 0s 5ms/step - loss: 0.0056 - val_loss: 0.0030\n",
      "Epoch 6/20\n",
      "36/36 [==============================] - 0s 4ms/step - loss: 0.0045 - val_loss: 0.0029\n",
      "Epoch 7/20\n",
      "36/36 [==============================] - 0s 4ms/step - loss: 0.0044 - val_loss: 0.0026\n",
      "Epoch 8/20\n",
      "36/36 [==============================] - 0s 4ms/step - loss: 0.0044 - val_loss: 0.0036\n",
      "Epoch 9/20\n",
      "36/36 [==============================] - 0s 4ms/step - loss: 0.0033 - val_loss: 0.0032\n",
      "Epoch 10/20\n",
      "36/36 [==============================] - 0s 5ms/step - loss: 0.0032 - val_loss: 0.0018\n",
      "Epoch 11/20\n",
      "36/36 [==============================] - 0s 4ms/step - loss: 0.0030 - val_loss: 0.0020\n",
      "Epoch 12/20\n",
      "36/36 [==============================] - 0s 4ms/step - loss: 0.0026 - val_loss: 0.0021\n",
      "Epoch 13/20\n",
      "36/36 [==============================] - 0s 4ms/step - loss: 0.0024 - val_loss: 0.0019\n",
      "Epoch 14/20\n",
      "36/36 [==============================] - 0s 5ms/step - loss: 0.0019 - val_loss: 0.0012\n",
      "Epoch 15/20\n",
      "36/36 [==============================] - 0s 5ms/step - loss: 0.0018 - val_loss: 0.0012\n",
      "Epoch 16/20\n",
      "36/36 [==============================] - 0s 6ms/step - loss: 0.0017 - val_loss: 0.0016\n",
      "Epoch 17/20\n",
      "36/36 [==============================] - 0s 5ms/step - loss: 0.0017 - val_loss: 0.0011\n",
      "Epoch 18/20\n",
      "36/36 [==============================] - 0s 4ms/step - loss: 0.0014 - val_loss: 0.0011\n",
      "Epoch 19/20\n",
      "36/36 [==============================] - 0s 4ms/step - loss: 0.0015 - val_loss: 9.9115e-04\n",
      "Epoch 20/20\n",
      "36/36 [==============================] - 0s 4ms/step - loss: 0.0013 - val_loss: 7.1110e-04\n"
     ]
    }
   ],
   "source": [
    "model = build_lstm_model(\n",
    "    X_train, output_size=1, neurons=lstm_neurons, dropout=dropout, loss=loss,\n",
    "    optimizer=optimizer)\n",
    "modelfit = model.fit(\n",
    "    X_train, y_train, validation_data=(X_test, y_test), epochs=epochs, batch_size=batch_size, verbose=1, shuffle=True)"
   ]
  },
  {
   "cell_type": "code",
   "execution_count": 58,
   "metadata": {
    "colab": {
     "base_uri": "https://localhost:8080/",
     "height": 295
    },
    "id": "m5ilATOy1ZqE",
    "outputId": "e4f214de-dec9-4030-ff53-6677e7c18f87"
   },
   "outputs": [
    {
     "data": {
      "image/png": "[encoded data removed]",
      "text/plain": [
       "<Figure size 432x288 with 1 Axes>"
      ]
     },
     "metadata": {
      "needs_background": "light"
     },
     "output_type": "display_data"
    }
   ],
   "source": [
    "import matplotlib.pyplot as plt\n",
    "plt.plot(modelfit.history['loss'],'r',linewidth=2, label='Training loss')\n",
    "plt.plot(modelfit.history['val_loss'], 'g',linewidth=2, label='Validation loss')\n",
    "plt.title('LSTM Neural Networks - XRP Model')\n",
    "plt.xlabel('Epochs numbers')\n",
    "plt.ylabel('MSE numbers')\n",
    "plt.show()"
   ]
  },
  {
   "cell_type": "code",
   "execution_count": 25,
   "metadata": {},
   "outputs": [
    {
     "data": {
      "text/plain": [
       "20"
      ]
     },
     "execution_count": 25,
     "metadata": {},
     "output_type": "execute_result"
    }
   ],
   "source": [
    "len(modelfit.history['loss'])"
   ]
  },
  {
   "cell_type": "code",
   "execution_count": 61,
   "metadata": {
    "colab": {
     "base_uri": "https://localhost:8080/"
    },
    "id": "MyfyB5SA1saZ",
    "outputId": "da16ff40-07cf-4357-8e5f-861ce75ac98e"
   },
   "outputs": [
    {
     "data": {
      "text/plain": [
       "0.019053015271786704"
      ]
     },
     "execution_count": 61,
     "metadata": {},
     "output_type": "execute_result"
    }
   ],
   "source": [
    "targets = test_data[aim][window_len:]\n",
    "preds = model.predict(X_test).squeeze()\n",
    "mean_absolute_error(preds, y_test)"
   ]
  },
  {
   "cell_type": "code",
   "execution_count": 62,
   "metadata": {
    "colab": {
     "base_uri": "https://localhost:8080/"
    },
    "id": "pJbbB0Ji1u3z",
    "outputId": "ececa6bb-84a9-4f39-ce98-c31d9a4bdc5f"
   },
   "outputs": [
    {
     "data": {
      "text/plain": [
       "0.0006646643796832899"
      ]
     },
     "execution_count": 62,
     "metadata": {},
     "output_type": "execute_result"
    }
   ],
   "source": [
    "from sklearn.metrics import mean_squared_error\n",
    "SCORE_MSE=mean_squared_error(preds, y_test)\n",
    "SCORE_MSE"
   ]
  },
  {
   "cell_type": "code",
   "execution_count": 63,
   "metadata": {
    "colab": {
     "base_uri": "https://localhost:8080/"
    },
    "id": "jYFWq3gI10a6",
    "outputId": "a9c0623e-b434-4962-8649-57a18d4efefb"
   },
   "outputs": [
    {
     "data": {
      "text/plain": [
       "94.85670501407162"
      ]
     },
     "execution_count": 63,
     "metadata": {},
     "output_type": "execute_result"
    }
   ],
   "source": [
    "from sklearn.metrics import r2_score\n",
    "r2_score=r2_score(y_test, preds)\n",
    "r2_score*100"
   ]
  },
  {
   "cell_type": "code",
   "execution_count": 64,
   "metadata": {
    "colab": {
     "base_uri": "https://localhost:8080/",
     "height": 428
    },
    "id": "ICd7mlF_1861",
    "outputId": "7a04803a-8db1-4ec0-8300-088eb8f1b734"
   },
   "outputs": [
    {
     "data": {
      "image/png": "[encoded data removed]",
      "text/plain": [
       "<Figure size 936x504 with 1 Axes>"
      ]
     },
     "metadata": {
      "needs_background": "light"
     },
     "output_type": "display_data"
    }
   ],
   "source": [
    "preds = test_data[aim].values[:-window_len] * (preds + 1)\n",
    "preds = pd.Series(index=targets.index, data=preds)\n",
    "line_plot(targets, preds, 'actual', 'prediction', lw=3)"
   ]
  }
 ],
 "metadata": {
  "colab": {
   "name": "Untitled11.ipynb",
   "provenance": [],
   "toc_visible": true
  },
  "kernelspec": {
   "display_name": "Python 3 (ipykernel)",
   "language": "python",
   "name": "python3"
  },
  "language_info": {
   "codemirror_mode": {
    "name": "ipython",
    "version": 3
   },
   "file_extension": ".py",
   "mimetype": "text/x-python",
   "name": "python",
   "nbconvert_exporter": "python",
   "pygments_lexer": "ipython3",
   "version": "3.8.10"
  }
 },
 "nbformat": 4,
 "nbformat_minor": 4
}
